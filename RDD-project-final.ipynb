{
 "cells": [
  {
   "cell_type": "markdown",
   "id": "5bc0f3e7",
   "metadata": {},
   "source": [
    "# RDD Project\n",
    "\n",
    "**Group 3**\n",
    "\n",
    "Members:\n",
    "- Ankit Kaushal\n",
    "- Ivan Jordaan\n",
    "- Lesley Borowski\n",
    "- Shane Dam\n",
    "- Wilson Tjendana"
   ]
  },
  {
   "cell_type": "code",
   "execution_count": 319,
   "id": "82a352d1",
   "metadata": {},
   "outputs": [],
   "source": [
    "#imports\n",
    "import numpy as np\n",
    "import pandas as pd\n",
    "import matplotlib.pyplot as plt\n",
    "import seaborn as sns; sns.set()\n",
    "import statsmodels.api as sm\n",
    "import statsmodels.formula.api as smf\n",
    "%matplotlib inline\n",
    "import warnings\n",
    "warnings.filterwarnings('ignore')"
   ]
  },
  {
   "cell_type": "code",
   "execution_count": 320,
   "id": "866e4746",
   "metadata": {},
   "outputs": [
    {
     "data": {
      "text/html": [
       "<div>\n",
       "<style scoped>\n",
       "    .dataframe tbody tr th:only-of-type {\n",
       "        vertical-align: middle;\n",
       "    }\n",
       "\n",
       "    .dataframe tbody tr th {\n",
       "        vertical-align: top;\n",
       "    }\n",
       "\n",
       "    .dataframe thead th {\n",
       "        text-align: right;\n",
       "    }\n",
       "</style>\n",
       "<table border=\"1\" class=\"dataframe\">\n",
       "  <thead>\n",
       "    <tr style=\"text-align: right;\">\n",
       "      <th></th>\n",
       "      <th>Date_case</th>\n",
       "      <th>Epidemiological_link</th>\n",
       "      <th>In_lab</th>\n",
       "      <th>Moving_avg_7days</th>\n",
       "    </tr>\n",
       "  </thead>\n",
       "  <tbody>\n",
       "    <tr>\n",
       "      <th>0</th>\n",
       "      <td>2020-02-24</td>\n",
       "      <td>0</td>\n",
       "      <td>0</td>\n",
       "      <td>0.14</td>\n",
       "    </tr>\n",
       "    <tr>\n",
       "      <th>1</th>\n",
       "      <td>2020-02-25</td>\n",
       "      <td>0</td>\n",
       "      <td>1</td>\n",
       "      <td>0.29</td>\n",
       "    </tr>\n",
       "    <tr>\n",
       "      <th>2</th>\n",
       "      <td>2020-02-26</td>\n",
       "      <td>0</td>\n",
       "      <td>0</td>\n",
       "      <td>0.29</td>\n",
       "    </tr>\n",
       "    <tr>\n",
       "      <th>3</th>\n",
       "      <td>2020-02-27</td>\n",
       "      <td>0</td>\n",
       "      <td>0</td>\n",
       "      <td>0.43</td>\n",
       "    </tr>\n",
       "    <tr>\n",
       "      <th>4</th>\n",
       "      <td>2020-02-28</td>\n",
       "      <td>0</td>\n",
       "      <td>1</td>\n",
       "      <td>0.86</td>\n",
       "    </tr>\n",
       "    <tr>\n",
       "      <th>...</th>\n",
       "      <td>...</td>\n",
       "      <td>...</td>\n",
       "      <td>...</td>\n",
       "      <td>...</td>\n",
       "    </tr>\n",
       "    <tr>\n",
       "      <th>597</th>\n",
       "      <td>2021-10-13</td>\n",
       "      <td>1</td>\n",
       "      <td>616</td>\n",
       "      <td>561.57</td>\n",
       "    </tr>\n",
       "    <tr>\n",
       "      <th>598</th>\n",
       "      <td>2021-10-14</td>\n",
       "      <td>0</td>\n",
       "      <td>708</td>\n",
       "      <td>551.86</td>\n",
       "    </tr>\n",
       "    <tr>\n",
       "      <th>599</th>\n",
       "      <td>2021-10-15</td>\n",
       "      <td>1</td>\n",
       "      <td>688</td>\n",
       "      <td>544.57</td>\n",
       "    </tr>\n",
       "    <tr>\n",
       "      <th>600</th>\n",
       "      <td>2021-10-16</td>\n",
       "      <td>1</td>\n",
       "      <td>477</td>\n",
       "      <td>526.14</td>\n",
       "    </tr>\n",
       "    <tr>\n",
       "      <th>601</th>\n",
       "      <td>2021-10-17</td>\n",
       "      <td>1</td>\n",
       "      <td>347</td>\n",
       "      <td>497.14</td>\n",
       "    </tr>\n",
       "  </tbody>\n",
       "</table>\n",
       "<p>602 rows × 4 columns</p>\n",
       "</div>"
      ],
      "text/plain": [
       "     Date_case  Epidemiological_link  In_lab  Moving_avg_7days\n",
       "0   2020-02-24                     0       0              0.14\n",
       "1   2020-02-25                     0       1              0.29\n",
       "2   2020-02-26                     0       0              0.29\n",
       "3   2020-02-27                     0       0              0.43\n",
       "4   2020-02-28                     0       1              0.86\n",
       "..         ...                   ...     ...               ...\n",
       "597 2021-10-13                     1     616            561.57\n",
       "598 2021-10-14                     0     708            551.86\n",
       "599 2021-10-15                     1     688            544.57\n",
       "600 2021-10-16                     1     477            526.14\n",
       "601 2021-10-17                     1     347            497.14\n",
       "\n",
       "[602 rows x 4 columns]"
      ]
     },
     "execution_count": 320,
     "metadata": {},
     "output_type": "execute_result"
    }
   ],
   "source": [
    "#cleaning up & transforming dataset\n",
    "df = pd.read_csv(r'../resources/Covid_data.csv')\n",
    "df = df.dropna()\n",
    "df['Date de déclaration du cas'] = pd.to_datetime(df['Date de déclaration du cas'])\n",
    "df.columns = ['Date_case','Epidemiological_link','In_lab','Moving_avg_7days']\n",
    "df"
   ]
  },
  {
   "cell_type": "code",
   "execution_count": 321,
   "id": "ca2b45de",
   "metadata": {},
   "outputs": [],
   "source": [
    "#split dataset into different dataframes for each events\n",
    "df['daynumber'] = df.index\n",
    "df['daynumber'] = df['daynumber'].astype(int)\n",
    "\n",
    "mar_20th_df = df.loc[(df['Date_case']<=\"2020-04-10\") & (df['Date_case']>=\"2020-02-27\")]\n",
    "\n",
    "aug_31_df = df.loc[(df['Date_case'] <= \"2020-09-21\") & (df['Date_case'] >= \"2020-08-10\")]\n",
    "\n",
    "dec_25_df = df.loc[(df['Date_case'] <= \"2021-01-15\") & (df['Date_case'] >= \"2020-12-04\")] "
   ]
  },
  {
   "cell_type": "code",
   "execution_count": 322,
   "id": "57b05ee3",
   "metadata": {},
   "outputs": [],
   "source": [
    "### Functions for evaluating linear vs. quadratic models ### \n",
    "\n",
    "#given a threshold value, add column for variable 'threshold' to 'df'\n",
    "def threshold(df,n):\n",
    "    df = df.assign(threshold = df['daynumber'] > n)\n",
    "    return df\n",
    "\n",
    "#making new dataframe 'x' which will have every elements needed for modeling; i.e. a constant, 'x' values, squared 'x'\n",
    " #values (squared feature), 'y' (response variable) and 'c' (threshold variable)\n",
    "def new_x(df):\n",
    "    x = pd.DataFrame(df['daynumber'])\n",
    "    x_squared = np.square(df['daynumber'])\n",
    "    x = pd.concat((x, x_squared),axis = 1)\n",
    "    x = sm.add_constant(x)\n",
    "    x.columns = ['const','daynumber','daynumber_sq']\n",
    "    x = pd.concat((x,df['Date_case'], df['Moving_avg_7days'],df['threshold']),axis = 1)\n",
    "    return x\n",
    "\n",
    "#ols linear regression modeling\n",
    "def ols_lin_reg(df):\n",
    "    model = smf.ols(\"Moving_avg_7days~daynumber*threshold\", df).fit()\n",
    "    print(model.summary())\n",
    "\n",
    "#ols quadratic regression modeling\n",
    "def ols_quad_reg(df):\n",
    "    model = smf.ols(\"Moving_avg_7days~daynumber*threshold+daynumber_sq*threshold\", df).fit()\n",
    "    print(model.summary())"
   ]
  },
  {
   "cell_type": "code",
   "execution_count": 323,
   "id": "70d31d9d",
   "metadata": {},
   "outputs": [],
   "source": [
    "#applying threshold function to the different dataframes of every events\n",
    "mar_20th_df = threshold(mar_20th_df,25)\n",
    "aug_31_df = threshold(aug_31_df,189)\n",
    "dec_25_df = threshold(dec_25_df,305)\n",
    "#25, 189, 305 are the indexes of the cutoff event days\n",
    "\n",
    "#creating new dataframes which will contain the important elements\n",
    "x = new_x(mar_20th_df)\n",
    "x1 = new_x(aug_31_df)\n",
    "x2 = new_x(dec_25_df)"
   ]
  },
  {
   "cell_type": "code",
   "execution_count": 324,
   "id": "111733ca",
   "metadata": {},
   "outputs": [
    {
     "name": "stdout",
     "output_type": "stream",
     "text": [
      "                            OLS Regression Results                            \n",
      "==============================================================================\n",
      "Dep. Variable:       Moving_avg_7days   R-squared:                       0.993\n",
      "Model:                            OLS   Adj. R-squared:                  0.993\n",
      "Method:                 Least Squares   F-statistic:                     1149.\n",
      "Date:                Mon, 25 Oct 2021   Prob (F-statistic):           2.33e-40\n",
      "Time:                        19:29:49   Log-Likelihood:                -204.17\n",
      "No. Observations:                  44   AIC:                             420.3\n",
      "Df Residuals:                      38   BIC:                             431.0\n",
      "Df Model:                           5                                         \n",
      "Covariance Type:            nonrobust                                         \n",
      "==================================================================================================\n",
      "                                     coef    std err          t      P>|t|      [0.025      0.975]\n",
      "--------------------------------------------------------------------------------------------------\n",
      "Intercept                         47.6028     25.430      1.872      0.069      -3.878      99.084\n",
      "threshold[T.True]              -3145.0919    230.886    -13.622      0.000   -3612.495   -2677.688\n",
      "daynumber                        -11.3469      4.100     -2.767      0.009     -19.647      -3.046\n",
      "daynumber:threshold[T.True]      188.3493     13.630     13.819      0.000     160.756     215.942\n",
      "daynumber_sq                       0.5518      0.143      3.851      0.000       0.262       0.842\n",
      "daynumber_sq:threshold[T.True]    -2.5805      0.230    -11.215      0.000      -3.046      -2.115\n",
      "==============================================================================\n",
      "Omnibus:                        0.033   Durbin-Watson:                   0.374\n",
      "Prob(Omnibus):                  0.984   Jarque-Bera (JB):                0.163\n",
      "Skew:                           0.058   Prob(JB):                        0.922\n",
      "Kurtosis:                       2.726   Cond. No.                     7.85e+04\n",
      "==============================================================================\n",
      "\n",
      "Notes:\n",
      "[1] Standard Errors assume that the covariance matrix of the errors is correctly specified.\n",
      "[2] The condition number is large, 7.85e+04. This might indicate that there are\n",
      "strong multicollinearity or other numerical problems.\n"
     ]
    }
   ],
   "source": [
    "#comparing march 20th lockdown ols regression results\n",
    "\n",
    "#ols_lin_reg(x)\n",
    "ols_quad_reg(x)"
   ]
  },
  {
   "cell_type": "code",
   "execution_count": 325,
   "id": "40724878",
   "metadata": {},
   "outputs": [
    {
     "name": "stdout",
     "output_type": "stream",
     "text": [
      "                            OLS Regression Results                            \n",
      "==============================================================================\n",
      "Dep. Variable:       Moving_avg_7days   R-squared:                       0.996\n",
      "Model:                            OLS   Adj. R-squared:                  0.996\n",
      "Method:                 Least Squares   F-statistic:                     1871.\n",
      "Date:                Mon, 25 Oct 2021   Prob (F-statistic):           2.14e-43\n",
      "Time:                        19:29:50   Log-Likelihood:                -150.85\n",
      "No. Observations:                  43   AIC:                             313.7\n",
      "Df Residuals:                      37   BIC:                             324.3\n",
      "Df Model:                           5                                         \n",
      "Covariance Type:            nonrobust                                         \n",
      "==================================================================================================\n",
      "                                     coef    std err          t      P>|t|      [0.025      0.975]\n",
      "--------------------------------------------------------------------------------------------------\n",
      "Intercept                       1.386e+04   1647.267      8.414      0.000    1.05e+04    1.72e+04\n",
      "threshold[T.True]                1.86e+04   2849.160      6.528      0.000    1.28e+04    2.44e+04\n",
      "daynumber                       -156.8312     18.473     -8.490      0.000    -194.261    -119.401\n",
      "daynumber:threshold[T.True]     -182.7446     29.705     -6.152      0.000    -242.932    -122.557\n",
      "daynumber_sq                       0.4460      0.052      8.620      0.000       0.341       0.551\n",
      "daynumber_sq:threshold[T.True]     0.4470      0.078      5.743      0.000       0.289       0.605\n",
      "==============================================================================\n",
      "Omnibus:                        7.673   Durbin-Watson:                   0.633\n",
      "Prob(Omnibus):                  0.022   Jarque-Bera (JB):                8.697\n",
      "Skew:                           0.538   Prob(JB):                       0.0129\n",
      "Kurtosis:                       4.923   Cond. No.                     9.91e+07\n",
      "==============================================================================\n",
      "\n",
      "Notes:\n",
      "[1] Standard Errors assume that the covariance matrix of the errors is correctly specified.\n",
      "[2] The condition number is large, 9.91e+07. This might indicate that there are\n",
      "strong multicollinearity or other numerical problems.\n"
     ]
    }
   ],
   "source": [
    "#comparing august 31 school reoppening ols regression results\n",
    "\n",
    "#ols_lin_reg(x1)\n",
    "ols_quad_reg(x1)"
   ]
  },
  {
   "cell_type": "code",
   "execution_count": 326,
   "id": "c858e379",
   "metadata": {},
   "outputs": [
    {
     "name": "stdout",
     "output_type": "stream",
     "text": [
      "                            OLS Regression Results                            \n",
      "==============================================================================\n",
      "Dep. Variable:       Moving_avg_7days   R-squared:                       0.989\n",
      "Model:                            OLS   Adj. R-squared:                  0.987\n",
      "Method:                 Least Squares   F-statistic:                     641.0\n",
      "Date:                Mon, 25 Oct 2021   Prob (F-statistic):           7.48e-35\n",
      "Time:                        19:29:50   Log-Likelihood:                -211.32\n",
      "No. Observations:                  43   AIC:                             434.6\n",
      "Df Residuals:                      37   BIC:                             445.2\n",
      "Df Model:                           5                                         \n",
      "Covariance Type:            nonrobust                                         \n",
      "==================================================================================================\n",
      "                                     coef    std err          t      P>|t|      [0.025      0.975]\n",
      "--------------------------------------------------------------------------------------------------\n",
      "Intercept                      -5.126e+04   1.83e+04     -2.800      0.008   -8.83e+04   -1.42e+04\n",
      "threshold[T.True]              -4.283e+05   2.99e+04    -14.310      0.000   -4.89e+05   -3.68e+05\n",
      "daynumber                        328.7734    124.342      2.644      0.012      76.833     580.714\n",
      "daynumber:threshold[T.True]     2752.1156    194.796     14.128      0.000    2357.421    3146.810\n",
      "daynumber_sq                      -0.5029      0.211     -2.382      0.022      -0.931      -0.075\n",
      "daynumber_sq:threshold[T.True]    -4.4186      0.318    -13.914      0.000      -5.062      -3.775\n",
      "==============================================================================\n",
      "Omnibus:                        6.850   Durbin-Watson:                   0.808\n",
      "Prob(Omnibus):                  0.033   Jarque-Bera (JB):                7.793\n",
      "Skew:                          -0.446   Prob(JB):                       0.0203\n",
      "Kurtosis:                       4.885   Cond. No.                     6.57e+08\n",
      "==============================================================================\n",
      "\n",
      "Notes:\n",
      "[1] Standard Errors assume that the covariance matrix of the errors is correctly specified.\n",
      "[2] The condition number is large, 6.57e+08. This might indicate that there are\n",
      "strong multicollinearity or other numerical problems.\n"
     ]
    }
   ],
   "source": [
    "#comparing december 25th lockdown ols regression results\n",
    "\n",
    "#ols_lin_reg(x2)\n",
    "ols_quad_reg(x2)"
   ]
  },
  {
   "cell_type": "code",
   "execution_count": 355,
   "id": "d86132b0",
   "metadata": {},
   "outputs": [],
   "source": [
    "### Breaking the dataframe into 21day periods\n",
    "\n",
    "after_mar_20th_df = df.loc[(df['Date_case'] <= \"2020-04-10\") & (df['Date_case'] > \"2020-03-20\")]\n",
    "\n",
    "before_mar_20th_df = df.loc[(df['Date_case'] >= \"2020-02-27\") & (df['Date_case'] < \"2020-03-20\")]\n",
    "\n",
    "after_aug_31_df = df.loc[(df['Date_case'] <= \"2020-09-21\") & (df['Date_case'] > \"2020-08-31\")]\n",
    "\n",
    "before_aug_31_df  = df.loc[(df['Date_case'] >= \"2020-08-10\") & (df['Date_case'] < \"2020-08-31\")]\n",
    "\n",
    "after_dec_25_df = df.loc[(df['Date_case'] <= \"2021-01-15\") & (df['Date_case'] > \"2020-12-25\")]\n",
    "\n",
    "before_dec_25_df = df.loc[(df['Date_case'] >= \"2020-12-04\") & (df['Date_case'] < \"2020-12-25\")]"
   ]
  },
  {
   "cell_type": "code",
   "execution_count": 356,
   "id": "3c97202e",
   "metadata": {},
   "outputs": [],
   "source": [
    "### A function that returns both linear and qudratic fitting based on the third argument\n",
    "\n",
    "def linreg(before, after, title, n):\n",
    "    \n",
    "    # Initializes the x-variables and creates the plot\n",
    "    fig, ax = plt.subplots()\n",
    "    x1 = sm.add_constant(np.array(before['daynumber'])[:,np.newaxis])\n",
    "    x2 = sm.add_constant(np.array(after['daynumber'])[:,np.newaxis])\n",
    "    y1 = before['Moving_avg_7days']\n",
    "    y2 = after['Moving_avg_7days']\n",
    "    \n",
    "    #adding squared feature\n",
    "    x1_squared = np.square(x1[:,1])[:,np.newaxis]\n",
    "    x1 = np.concatenate((x1,x1_squared),axis = 1)\n",
    "    x2_squared = np.square(x2[:,1])[:,np.newaxis]\n",
    "    x2 = np.concatenate((x2,x2_squared),axis = 1)\n",
    "    plt.title('RDD quadratic fit case of ' + title, fontdict = {'fontsize': 14, 'fontweight': 'bold'})\n",
    "    \n",
    "    #Does the OLS fits with HC2\n",
    "    model = sm.OLS(y1,x1).fit(cov_type='HC2')\n",
    "    est = sm.OLS(y2,x2).fit(cov_type='HC2')\n",
    "\n",
    "\n",
    "    #plots the scatter and fitted curve\n",
    "    ax.scatter(x1[:,1],y1)\n",
    "    ax.scatter(x2[:,1],y2)\n",
    "    ax.plot(x1[:,1],model.predict(x1),color = 'magenta')\n",
    "    ax.plot(x2[:,1],est.predict(x2),color = 'cyan')\n",
    "    \n",
    "    #plot settings\n",
    "    plt.xlabel('Days')\n",
    "    plt.ylabel('Moving average ( 7 days )')\n",
    "    plt.axvline(n,c = 'black', linestyle = '--')\n",
    "    ax.legend(['Before event','After event','Event day'])"
   ]
  },
  {
   "cell_type": "code",
   "execution_count": 357,
   "id": "b02dec68",
   "metadata": {},
   "outputs": [
    {
     "data": {
      "image/png": "[encoded data removed]",
      "text/plain": [
       "<Figure size 432x288 with 1 Axes>"
      ]
     },
     "metadata": {
      "needs_background": "light"
     },
     "output_type": "display_data"
    }
   ],
   "source": [
    "linreg(before_mar_20th_df, after_mar_20th_df,'March 20 2020 Lockdown',25)"
   ]
  },
  {
   "cell_type": "code",
   "execution_count": 358,
   "id": "cfb60798",
   "metadata": {},
   "outputs": [
    {
     "data": {
      "image/png": "[encoded data removed]",
      "text/plain": [
       "<Figure size 432x288 with 1 Axes>"
      ]
     },
     "metadata": {
      "needs_background": "light"
     },
     "output_type": "display_data"
    }
   ],
   "source": [
    "linreg(before_aug_31_df, after_aug_31_df, 'August 31 2020 School Reopening',189)"
   ]
  },
  {
   "cell_type": "code",
   "execution_count": 359,
   "id": "aa84cd76",
   "metadata": {
    "scrolled": true
   },
   "outputs": [
    {
     "data": {
      "image/png": "[encoded data removed]",
      "text/plain": [
       "<Figure size 432x288 with 1 Axes>"
      ]
     },
     "metadata": {
      "needs_background": "light"
     },
     "output_type": "display_data"
    }
   ],
   "source": [
    "linreg(before_dec_25_df, after_dec_25_df, 'December 25 2020 Lockdown',305)"
   ]
  },
  {
   "cell_type": "markdown",
   "id": "58ef7c8b",
   "metadata": {},
   "source": [
    "# Interpretation of results\n",
    "\n",
    "**Interpretation of the p-value on the effect of the measure taken**\n",
    "\n",
    "- All of our cutoff parameters have p-values below 0.05, which means that we reject the assumption/null hypothesis that our cutoff has no effect on our response variable. In other words, we can assume that our cutoff parameters are statistically significant and the enforced measures had an effect on average weekly COVID cases.\n",
    "\n",
    "\n",
    "**Justification of regression design**\n",
    "\n",
    "- The amount of time included on both sides of the cutoff (longer is not necessarily better)\n",
    "     - We chose to include 21 days before and 21 days after our cutoff, as we felt that as COVID has an incubation period of 14 days, 1.5 incubation periods would be enough to properly show trends and account for the number of active cases, while keeping in mind that smaller sample sizes show more distinguishable results.\n",
    "- The polynomial degree (higher is not always better)\n",
    "     - The estimators for causal effects based on higher order polynomials can be misleading, and we recommend not use them. Instead, use estimators based on linear or quadratic polynomials. Moreover, any higher degree of polynomial would risk us overfitting our model.\n",
    "     - We chose a polynomial degree of 2, as we saw that it consistently increased our r-squared values and reduced our AIC and BICs in comparison to linear models. \n",
    "- Other regression design considerations\n",
    "     - Before landing on our current model, we considered using linear and quadratic regression on two different datasets. Dataset 1 was populated with data from before the cutoff event and Dataset 2 was populated with data from after to compare their OLS results in order to choose the best model. However, NaN values were generated which are worthless for the interpretation of the results. Therefore, that design was dismissed.\n",
    "\n",
    "\n",
    "**Explanation of the findings for the events**\n",
    "\n",
    "- All three of our models have very high r-squared values, over .95, which tells us that over 95% of our data fit our models and as a result, our models have very strong predictive power.\n",
    "- March 20th Regression\n",
    "    - We can see that our cutoff, or threshold, has a large negative coefficient, meaning that the implementation of the lockdown significantly decreases the slope of the number of rolling average cases. Put plainly, the lockdown led to the number of COVID cases trending downwards We can see this reflected in our graph, where average cases initially increase after our cutoff point due to the exponential spread of COVID, but sharply decrease after the first 14-day incubation cycle, ultimately creating a negative curve.\n",
    "- August 31st Regression\n",
    "    - In contrast, our cutoff for the school reopening has a positive coefficient, meaning that schools reopening increased the moving daily average of COVID cases. Our coefficient of 1.86e+04 tells us that schools reopening increased the slope of our rolling average of cases by at least 1.86e+04. This is consistent with what our graph shows: our curve fitting the data points after our cutoff has a much steeper upward curve than the one fitting the data points before the cutoff.\n",
    "- December 25th Regression\n",
    "    - The Christmas day lockdown also has a negative coefficient, meaning that the event resulted in weekly rolling average cases sloping downwards. This is consistent with our first example, where the implementation of a lockdown results in a downward trend in COVID cases.\n",
    "- Ultimately our models show that with high statistical significance, we can assume that tightening COVID restrictions reduces the number of COVID cases and loosening restrictions increases the number of cases.\n",
    " \n"
   ]
  },
  {
   "cell_type": "code",
   "execution_count": null,
   "id": "d64a3dae",
   "metadata": {},
   "outputs": [],
   "source": []
  }
 ],
 "metadata": {
  "kernelspec": {
   "display_name": "Python 3",
   "language": "python",
   "name": "python3"
  },
  "language_info": {
   "codemirror_mode": {
    "name": "ipython",
    "version": 3
   },
   "file_extension": ".py",
   "mimetype": "text/x-python",
   "name": "python",
   "nbconvert_exporter": "python",
   "pygments_lexer": "ipython3",
   "version": "3.8.8"
  }
 },
 "nbformat": 4,
 "nbformat_minor": 5
}
